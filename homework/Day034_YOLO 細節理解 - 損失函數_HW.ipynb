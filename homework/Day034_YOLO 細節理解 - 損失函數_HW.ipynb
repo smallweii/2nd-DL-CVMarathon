{
 "cells": [
  {
   "cell_type": "markdown",
   "metadata": {
    "colab_type": "text",
    "id": "Bnmm4e85ZBf2"
   },
   "source": [
    "## Day34.YOLO 細節理解 - 損失函數\n",
    "今天的課程，我們講述了\n",
    "* 損失函數是描述模型預測出來的結果和實際的差異的依據    \n",
    "* YOLO 損失函數的設計包含物件位置的定位與物件類別辨識    \n",
    "* YOLO損失函數透過超參數設定模型有不同的辨識能力    \n",
    "\n"
   ]
  },
  {
   "cell_type": "markdown",
   "metadata": {
    "colab_type": "text",
    "id": "exUoZwe5ZBf9"
   },
   "source": [
    "### 作業\n",
    "仔細觀察，bbox寬高計算損失方式和bbox中心計算損失方式有哪邊不一樣嗎? 為什麼要有不同的設計?\n",
    "![title](data/loss_function.PNG)"
   ]
  },
  {
   "cell_type": "code",
   "execution_count": 1,
   "metadata": {
    "colab": {
     "base_uri": "https://localhost:8080/",
     "height": 34
    },
    "colab_type": "code",
    "executionInfo": {
     "elapsed": 2077,
     "status": "ok",
     "timestamp": 1578021189565,
     "user": {
      "displayName": "Mora chen",
      "photoUrl": "https://lh3.googleusercontent.com/a-/AAuE7mB40f7sDArbZ5_DYq02nNcnLD0Ryaf7AhsASSQeLQ=s64",
      "userId": "03171203089166907199"
     },
     "user_tz": -480
    },
    "id": "8rmQogtPZBf_",
    "outputId": "3259b864-defa-4325-cf44-b0a269d6f1dc"
   },
   "outputs": [
    {
     "data": {
      "text/plain": [
       "'\\nbbox寬高計算損失方式：先把寬高各自開根號後，再算平方差。\\nbbox中心計算損失方式：直接計算中心位置之間的平方差。\\n\\n要有這樣的設計是因為：\\n大的預測框若不先把寬高開根號的話，\\n會產生較大的誤差，\\n使得辨識大物體的能力變低，\\n所以透過開根號來修改。\\n\\n開根號的效果如下圖：\\n代表x和√𝑥的關係，\\n當大物體與小物體寬高的預測誤差(x)都一樣時，\\n透過開根號可以使大物體寬高的預測誤差小於小物體寬高的預測誤差，\\n讓大小物體的辨識能力差不多。\\n'"
      ]
     },
     "execution_count": 1,
     "metadata": {},
     "output_type": "execute_result"
    }
   ],
   "source": [
    "'''\n",
    "bbox寬高計算損失方式：先把寬高各自開根號後，再算平方差。\n",
    "bbox中心計算損失方式：直接計算中心位置之間的平方差。\n",
    "\n",
    "要有這樣的設計是因為：\n",
    "大的預測框若不先把寬高開根號的話，\n",
    "會產生較大的誤差，\n",
    "使得辨識大物體的能力變低，\n",
    "所以透過開根號來修改。\n",
    "\n",
    "開根號的效果如下圖：\n",
    "代表x和√𝑥的關係，\n",
    "當大物體與小物體寬高的預測誤差(x)都一樣時，\n",
    "透過開根號可以使大物體寬高的預測誤差小於小物體寬高的預測誤差，\n",
    "讓大小物體的辨識能力差不多。\n",
    "'''"
   ]
  },
  {
   "cell_type": "markdown",
   "metadata": {},
   "source": [
    "![title](data/HW_answer.png)"
   ]
  }
 ],
 "metadata": {
  "colab": {
   "name": "Day34.YOLO 細節理解 - 損失函數_HW.ipynb",
   "provenance": []
  },
  "kernelspec": {
   "display_name": "Python 3",
   "language": "python",
   "name": "python3"
  },
  "language_info": {
   "codemirror_mode": {
    "name": "ipython",
    "version": 3
   },
   "file_extension": ".py",
   "mimetype": "text/x-python",
   "name": "python",
   "nbconvert_exporter": "python",
   "pygments_lexer": "ipython3",
   "version": "3.6.8"
  }
 },
 "nbformat": 4,
 "nbformat_minor": 1
}
