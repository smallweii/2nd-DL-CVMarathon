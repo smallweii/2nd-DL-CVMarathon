{
 "cells": [
  {
   "cell_type": "markdown",
   "metadata": {
    "colab_type": "text",
    "id": "0BBfdBwkyTiQ"
   },
   "source": [
    "## 『作業內容』\n",
    "####   依照指示，透過調整Padding、Strides參數控制輸出Feature map大小\n"
   ]
  },
  {
   "cell_type": "markdown",
   "metadata": {
    "colab_type": "text",
    "id": "7CtbcEb4yTiT"
   },
   "source": [
    "## 『目標』\n",
    "####   了解輸出feature map尺寸變化原理"
   ]
  },
  {
   "cell_type": "code",
   "execution_count": 1,
   "metadata": {},
   "outputs": [
    {
     "name": "stderr",
     "output_type": "stream",
     "text": [
      "Using TensorFlow backend.\n",
      "WARNING: Logging before flag parsing goes to stderr.\n",
      "W0311 15:06:45.924153 140215564388160 __init__.py:308] Limited tf.compat.v2.summary API due to missing TensorBoard installation.\n"
     ]
    }
   ],
   "source": [
    "from keras.models import Sequential\n",
    "from keras.layers import Convolution2D\n",
    "from keras.layers import Input, Dense\n",
    "from keras.models import Model"
   ]
  },
  {
   "cell_type": "code",
   "execution_count": 2,
   "metadata": {
    "colab": {},
    "colab_type": "code",
    "id": "2fhi3otQyTiU"
   },
   "outputs": [
    {
     "name": "stderr",
     "output_type": "stream",
     "text": [
      "W0311 15:06:47.862837 140215564388160 deprecation_wrapper.py:119] From /usr/local/lib/python3.6/dist-packages/keras/backend/tensorflow_backend.py:71: The name tf.get_default_graph is deprecated. Please use tf.compat.v1.get_default_graph instead.\n",
      "\n",
      "W0311 15:06:47.872446 140215564388160 deprecation_wrapper.py:119] From /usr/local/lib/python3.6/dist-packages/keras/backend/tensorflow_backend.py:514: The name tf.placeholder is deprecated. Please use tf.compat.v1.placeholder instead.\n",
      "\n",
      "W0311 15:06:47.874957 140215564388160 deprecation_wrapper.py:119] From /usr/local/lib/python3.6/dist-packages/keras/backend/tensorflow_backend.py:4076: The name tf.random_uniform is deprecated. Please use tf.random.uniform instead.\n",
      "\n"
     ]
    },
    {
     "name": "stdout",
     "output_type": "stream",
     "text": [
      "_________________________________________________________________\n",
      "Layer (type)                 Output Shape              Param #   \n",
      "=================================================================\n",
      "input_1 (InputLayer)         (None, 13, 13, 1)         0         \n",
      "_________________________________________________________________\n",
      "conv2d_1 (Conv2D)            (None, 13, 13, 32)        1184      \n",
      "=================================================================\n",
      "Total params: 1,184\n",
      "Trainable params: 1,184\n",
      "Non-trainable params: 0\n",
      "_________________________________________________________________\n",
      "_________________________________________________________________\n",
      "Layer (type)                 Output Shape              Param #   \n",
      "=================================================================\n",
      "input_2 (InputLayer)         (None, 13, 13, 1)         0         \n",
      "_________________________________________________________________\n",
      "conv2d_2 (Conv2D)            (None, 7, 7, 32)          1184      \n",
      "=================================================================\n",
      "Total params: 1,184\n",
      "Trainable params: 1,184\n",
      "Non-trainable params: 0\n",
      "_________________________________________________________________\n",
      "_________________________________________________________________\n",
      "Layer (type)                 Output Shape              Param #   \n",
      "=================================================================\n",
      "input_3 (InputLayer)         (None, 13, 13, 1)         0         \n",
      "_________________________________________________________________\n",
      "conv2d_3 (Conv2D)            (None, 8, 8, 32)          1184      \n",
      "=================================================================\n",
      "Total params: 1,184\n",
      "Trainable params: 1,184\n",
      "Non-trainable params: 0\n",
      "_________________________________________________________________\n",
      "_________________________________________________________________\n",
      "Layer (type)                 Output Shape              Param #   \n",
      "=================================================================\n",
      "input_4 (InputLayer)         (None, 13, 13, 1)         0         \n",
      "_________________________________________________________________\n",
      "conv2d_4 (Conv2D)            (None, 4, 4, 32)          1184      \n",
      "=================================================================\n",
      "Total params: 1,184\n",
      "Trainable params: 1,184\n",
      "Non-trainable params: 0\n",
      "_________________________________________________________________\n"
     ]
    }
   ],
   "source": [
    "##kernel size=(6,6)\n",
    "##kernel數量：32\n",
    "kernel_size = (6, 6)\n",
    "filters = 32\n",
    "\n",
    "## Same padding、strides=(1,1)\n",
    "model = Sequential()\n",
    "inputs = Input(shape=(13,13,1))\n",
    "x = Convolution2D(filters=filters, kernel_size=kernel_size, padding='same')(inputs)\n",
    "model = Model(inputs=inputs, outputs=x)\n",
    "model.summary()\n",
    "\n",
    "## Same padding、strides=(2,2)\n",
    "model = Sequential()\n",
    "inputs = Input(shape=(13,13,1))\n",
    "x = Convolution2D(filters=filters, kernel_size=kernel_size, strides=(2, 2), padding='same')(inputs)\n",
    "model = Model(inputs=inputs, outputs=x)\n",
    "model.summary()\n",
    "\n",
    "## Valid padding、strides=(1,1)\n",
    "model = Sequential()\n",
    "inputs = Input(shape=(13,13,1))\n",
    "x = Convolution2D(filters=filters, kernel_size=kernel_size)(inputs)\n",
    "model = Model(inputs=inputs, outputs=x)\n",
    "model.summary()\n",
    "\n",
    "## Valid padding、strides=(2,2)\n",
    "model=Sequential()\n",
    "inputs = Input(shape=(13,13,1))\n",
    "x=Convolution2D(filters=filters, kernel_size=kernel_size, strides=(2, 2))(inputs)\n",
    "model = Model(inputs=inputs, outputs=x)\n",
    "model.summary()\n"
   ]
  }
 ],
 "metadata": {
  "colab": {
   "name": "Strides and Padding.ipynb",
   "provenance": []
  },
  "kernelspec": {
   "display_name": "Python 3",
   "language": "python",
   "name": "python3"
  },
  "language_info": {
   "codemirror_mode": {
    "name": "ipython",
    "version": 3
   },
   "file_extension": ".py",
   "mimetype": "text/x-python",
   "name": "python",
   "nbconvert_exporter": "python",
   "pygments_lexer": "ipython3",
   "version": "3.6.8"
  }
 },
 "nbformat": 4,
 "nbformat_minor": 1
}
