{
 "cells": [
  {
   "cell_type": "markdown",
   "metadata": {},
   "source": [
    "# 作業\n",
    "\n",
    "使用 [Lena](http://optipng.sourceforge.net/pngtech/img/lena.png)\n",
    "\n",
    "- 改變圖片的 color space (`HLS`, `LAB`) 並呈現"
   ]
  },
  {
   "cell_type": "code",
   "execution_count": null,
   "metadata": {},
   "outputs": [],
   "source": [
    "import cv2\n",
    "\n",
    "img_path = 'data/lena.png'\n",
    "\n",
    "img_rgb = cv2.imread(img_path, cv2.IMREAD_COLOR)\n",
    "\n",
    "#改變不同的 color space\n",
    "img_hls = cv2.cvtColor(img_rgb, cv2.COLOR_BGR2HLS)\n",
    "img_lab = cv2.cvtColor(img_rgb, cv2.COLOR_BGR2LAB)\n",
    "\n",
    "cv2.imshow('rgb', img_rgb)\n",
    "cv2.imshow('hls', img_hls)\n",
    "cv2.imshow('lab', img_lab)\n",
    "\n",
    "#顯⽰示圖片之後，按任意鍵關閉視窗\n",
    "cv2.waitKey(0)\n",
    "cv2.destroyAllWindows()"
   ]
  }
 ],
 "metadata": {
  "kernelspec": {
   "display_name": "Python 3",
   "language": "python",
   "name": "python3"
  },
  "language_info": {
   "codemirror_mode": {
    "name": "ipython",
    "version": 3
   },
   "file_extension": ".py",
   "mimetype": "text/x-python",
   "name": "python",
   "nbconvert_exporter": "python",
   "pygments_lexer": "ipython3",
   "version": "3.7.3"
  }
 },
 "nbformat": 4,
 "nbformat_minor": 2
}
