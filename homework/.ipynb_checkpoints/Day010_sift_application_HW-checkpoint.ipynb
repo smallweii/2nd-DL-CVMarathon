{
 "cells": [
  {
   "cell_type": "markdown",
   "metadata": {},
   "source": [
    "## 範例\n",
    "\n",
    "透過 SIFT 特徵實作 Brute-Force Matching"
   ]
  },
  {
   "cell_type": "code",
   "execution_count": 1,
   "metadata": {},
   "outputs": [],
   "source": [
    "import cv2\n",
    "import numpy as np\n",
    "\n",
    "# 以灰階方式讀入圖片\n",
    "img_query = cv2.imread('data/box.png', 0)\n",
    "img_train = cv2.imread('data/box_in_scene.png', 0)\n",
    "\n",
    "# 建立 SIFT 物件 (另一種宣告)\n",
    "sift = cv2.xfeatures2d_SIFT.create()\n",
    "\n",
    "# 偵測並計算 SIFT 特徵 (取得 keypoints 關鍵點，計算 128 維 descriptor 敘述子向量)\n",
    "# None: mask 參數，如果有設定的話可以針對部份圖片計算 SIFT\n",
    "kp_query, des_query = sift.detectAndCompute(img_query, None)  # query image\n",
    "kp_train, des_train = sift.detectAndCompute(img_train, None)  # train image"
   ]
  },
  {
   "cell_type": "markdown",
   "metadata": {},
   "source": [
    "## 基於 SIFT 特徵的暴力比對\n",
    "\n",
    "- D.Lowe ratio test\n",
    "- knn 比對"
   ]
  },
  {
   "cell_type": "code",
   "execution_count": 2,
   "metadata": {},
   "outputs": [],
   "source": [
    "# 建立 Brute-Force Matching 物件\n",
    "bf = cv2.BFMatcher(cv2.NORM_L2)\n",
    "\n",
    "# 以 knn (k-nearest neighbor) 方式暴力比對特徵\n",
    "matches = bf.knnMatch(des_query, des_train, k=2)\n",
    "\n",
    "# 透過 D.Lowe ratio test 排除不適合的配對\n",
    "candidate = []\n",
    "for m, n in matches:\n",
    "    if m.distance < 0.75*n.distance:  # ratio test 設定比值為 0.75\n",
    "        candidate.append([m])\n",
    "\n",
    "# 顯示配對結果\n",
    "# flags: 畫圖的配置，為 2 代表沒有配對成功的關鍵點不會被畫出來來\n",
    "img_show = cv2.drawMatchesKnn(img_query, kp_query, img_train, kp_train, candidate, None, flags=2)\n",
    "\n",
    "# 顯示圖片\n",
    "while True:\n",
    "    cv2.imshow('matches', img_show)\n",
    "    k = cv2.waitKey(0)\n",
    "    if k == 27:\n",
    "        cv2.destroyAllWindows()\n",
    "        break"
   ]
  }
 ],
 "metadata": {
  "kernelspec": {
   "display_name": "Python 3",
   "language": "python",
   "name": "python3"
  },
  "language_info": {
   "codemirror_mode": {
    "name": "ipython",
    "version": 3
   },
   "file_extension": ".py",
   "mimetype": "text/x-python",
   "name": "python",
   "nbconvert_exporter": "python",
   "pygments_lexer": "ipython3",
   "version": "3.7.3"
  }
 },
 "nbformat": 4,
 "nbformat_minor": 2
}
